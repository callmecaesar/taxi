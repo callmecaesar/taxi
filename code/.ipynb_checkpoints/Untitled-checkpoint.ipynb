{
 "cells": [
  {
   "cell_type": "code",
   "execution_count": 1,
   "metadata": {},
   "outputs": [],
   "source": [
    "\n",
    "from tpot import TPOTRegressor"
   ]
  },
  {
   "cell_type": "code",
   "execution_count": null,
   "metadata": {},
   "outputs": [],
   "source": [
    "# import basic libraries\n",
    "\n",
    "import numpy as np\n",
    "import pandas as pd\n",
    "import matplotlib.pyplot as plt\n",
    "%matplotlib inline \n",
    "from sklearn import preprocessing\n",
    "from sklearn.metrics import mean_squared_error ## preprocessing\n",
    "\n",
    "### mean imputations\n",
    "\n",
    "train[ 'Item_Weight'].fillna((train[ 'Item_Weight'].mean()), inplace= True)\n",
    "test[ 'Item_Weight'].fillna((test[ 'Item_Weight'].mean()), inplace= True)\n",
    "\n",
    "### reducing fat content to only two categories\n",
    "\n",
    "train[ 'Item_Fat_Content'] = train[ 'Item_Fat_Content'].replace([ 'low fat', 'LF'], [ 'Low Fat', 'Low Fat']) \n",
    "train[ 'Item_Fat_Content'] = train[ 'Item_Fat_Content'].replace([ 'reg'], [ 'Regular']) \n",
    "test[ 'Item_Fat_Content'] = test[ 'Item_Fat_Content'].replace([ 'low fat', 'LF'], [ 'Low Fat', 'Low Fat']) \n",
    "test[ 'Item_Fat_Content'] = test[ 'Item_Fat_Content'].replace([ 'reg'], [ 'Regular']) \n",
    "train[ 'Outlet_Establishment_Year'] = 2013- train[ 'Outlet_Establishment_Year'] \n",
    "test[ 'Outlet_Establishment_Year'] = 2013- test[ 'Outlet_Establishment_Year'] \n",
    "train[ 'Outlet_Size'].fillna( 'Small',inplace= True)test[ 'Outlet_Size'].fillna( 'Small',inplace= True)\n",
    "train[ 'Item_Visibility'] = np.sqrt(train[ 'Item_Visibility'])\n",
    "test[ 'Item_Visibility'] = np.sqrt(test[ 'Item_Visibility'])\n",
    "col = [ 'Outlet_Size', 'Outlet_Location_Type', 'Outlet_Type', 'Item_Fat_Content']\n",
    "test[ 'Item_Outlet_Sales'] = 0\n",
    "combi = train.append(test) \n",
    "for i in col: \n",
    "    combi[i] = number.fit_transform(combi[i].astype( 'str')) \n",
    "    combi[i] = combi[i].astype( 'object')\n",
    "train = combi[:train.shape[ 0]]\n",
    "test = combi[train.shape[ 0]:]\n",
    "test.drop( 'Item_Outlet_Sales',axis= 1,inplace= True)\n",
    "\n",
    "## removing id variables\n",
    "\n",
    "tpot_train = train.drop([ 'Outlet_Identifier', 'Item_Type', 'Item_Identifier'],axis= 1)\n",
    "tpot_test = test.drop([ 'Outlet_Identifier', 'Item_Type', 'Item_Identifier'],axis= 1)\n",
    "target = tpot_train[ 'Item_Outlet_Sales']\n",
    "tpot_train.drop( 'Item_Outlet_Sales',axis= 1,inplace= True)\n",
    "\n",
    "# finally building model using tpot library\n",
    "\n",
    "from tpot import TPOTRegressor\n",
    "X_train, X_test, y_train, y_test = train_test_split(tpot_train, target, train_size= 0.75, test_size= 0.25)\n",
    "tpot = TPOTRegressor(generations= 5, population_size= 50, verbosity= 2)\n",
    "tpot.fit(X_train, y_train)\n",
    "print(tpot.score(X_test, y_test))\n",
    "tpot.export( 'tpot_boston_pipeline.py')"
   ]
  },
  {
   "cell_type": "code",
   "execution_count": null,
   "metadata": {},
   "outputs": [],
   "source": [
    "## predicting using tpot optimised pipeline\n",
    "\n",
    "tpot_pred = tpot.predict(tpot_test)\n",
    "sub1 = pd.DataFrame(data=tpot_pred)\n",
    "\n",
    "#sub1.index = np.arange(0, len(test)+1)\n",
    "\n",
    "sub1 = sub1.rename(columns = { '0': 'Item_Outlet_Sales'})\n",
    "sub1[ 'Item_Identifier'] = test[ 'Item_Identifier']\n",
    "sub1[ 'Outlet_Identifier'] = test[ 'Outlet_Identifier']\n",
    "sub1.columns = [ 'Item_Outlet_Sales', 'Item_Identifier', 'Outlet_Identifier']\n",
    "sub1 = sub1[[ 'Item_Identifier', 'Outlet_Identifier', 'Item_Outlet_Sales']]\n",
    "sub1.to_csv( 'tpot.csv',index= False)"
   ]
  }
 ],
 "metadata": {
  "kernelspec": {
   "display_name": "Python 3",
   "language": "python",
   "name": "python3"
  },
  "language_info": {
   "codemirror_mode": {
    "name": "ipython",
    "version": 3
   },
   "file_extension": ".py",
   "mimetype": "text/x-python",
   "name": "python",
   "nbconvert_exporter": "python",
   "pygments_lexer": "ipython3",
   "version": "3.6.5"
  }
 },
 "nbformat": 4,
 "nbformat_minor": 2
}
