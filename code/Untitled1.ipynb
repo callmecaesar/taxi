{
 "cells": [
  {
   "cell_type": "code",
   "execution_count": null,
   "metadata": {},
   "outputs": [],
   "source": [
    "from hyperopt import  hp, STATUS_OK, Trials, fmin, tpe\n",
    "\n",
    "lgb_train=lgb.Dataset(X_train,y_train)\n",
    "lgb_eval=lgb.Dataset(X_test,y_test,reference=lgb_train)\n",
    "params_dic={\n",
    "        'boosting_type':'gbdt',\n",
    "        'objective':'binary',\n",
    "        'metric':'auc',\n",
    "        'is_unbalance':True\n",
    "        }\n",
    "space={\n",
    "       'learning_rete':hp.uniform('learning_rete',0.01,0.1),\n",
    "       'num_leaves':hp.choice('num_leaves',range(10,190,10)),\n",
    "       'subsample':hp.uniform('subsample',0.5,1),\n",
    "       'max_depth':hp.choice('max_depth',range(5,10)),\n",
    "       'feature_fraction':hp.quniform('feature_fraction',0.1,1,0.2),\n",
    "       'bagging_fraction':hp.quniform('bagging_fraction',0.1,1,0.2),\n",
    "       'max_bin':hp.choice('max_bin',range(100,1590,5)),\n",
    "       'reg_alpha':hp.uniform('reg_alpha',0,2),\n",
    "       'reg_lambda':hp.uniform('reg_lambda',0,2),\n",
    "       \n",
    "       'min_data_in_leaf':hp.choice('min_data_in_leaf',range(5,20,1)),\n",
    "      }\n",
    "best_acc=0\n",
    "def f(params):\n",
    "    global best_acc\n",
    "    acc=hyperopt_train_test(params,params_dic)\n",
    "    if acc>best_acc:\n",
    "        best_acc=acc\n",
    "        print('new_best:',best_acc,params)\n",
    "    return {'loss':-best_acc,'status':STATUS_OK}\n",
    "\n",
    "trials=Trials()\n",
    "best=fmin(f,space,algo=tpe.suggest,max_evals=10)"
   ]
  },
  {
   "cell_type": "code",
   "execution_count": null,
   "metadata": {},
   "outputs": [],
   "source": [
    "def hyperopt_train_test(params,hyperparams):\n",
    "    gbm=lgb.train({**params,**hyperparams},lgb_train,num_boost_round=300,valid_sets=lgb_eval,early_stopping_rounds=30,verbose_eval=0)\n",
    "    pred=gbm.predict(X_test,num_iterration=gbm.best_iteration)\n",
    "    score=metrics.roc_auc_score(y_test,pred)\n",
    "    return score"
   ]
  }
 ],
 "metadata": {
  "kernelspec": {
   "display_name": "Python 3",
   "language": "python",
   "name": "python3"
  },
  "language_info": {
   "codemirror_mode": {
    "name": "ipython",
    "version": 3
   },
   "file_extension": ".py",
   "mimetype": "text/x-python",
   "name": "python",
   "nbconvert_exporter": "python",
   "pygments_lexer": "ipython3",
   "version": "3.6.5"
  }
 },
 "nbformat": 4,
 "nbformat_minor": 2
}
